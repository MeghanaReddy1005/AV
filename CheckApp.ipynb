{
  "nbformat": 4,
  "nbformat_minor": 0,
  "metadata": {
    "colab": {
      "name": "CheckApp.ipynb",
      "provenance": [],
      "authorship_tag": "ABX9TyNRkVGoN/m3n0AV6tdzlBz5",
      "include_colab_link": true
    },
    "kernelspec": {
      "name": "python3",
      "display_name": "Python 3"
    }
  },
  "cells": [
    {
      "cell_type": "markdown",
      "metadata": {
        "id": "view-in-github",
        "colab_type": "text"
      },
      "source": [
        "<a href=\"https://colab.research.google.com/github/Rakesh2711/AV/blob/master/CheckApp.ipynb\" target=\"_parent\"><img src=\"https://colab.research.google.com/assets/colab-badge.svg\" alt=\"Open In Colab\"/></a>"
      ]
    },
    {
      "cell_type": "code",
      "metadata": {
        "id": "GOzHY_9VnGq3",
        "colab_type": "code",
        "colab": {}
      },
      "source": [
        "import os\n",
        "import json"
      ],
      "execution_count": null,
      "outputs": []
    },
    {
      "cell_type": "code",
      "metadata": {
        "id": "EcpDcgVWnKsZ",
        "colab_type": "code",
        "colab": {}
      },
      "source": [
        "curl_string = '''curl -H \"Content-Type: application/json\" -X POST -d '{\"message\":[\"All claims have been processed quickly with no\"]}' http://127.0.0.1:5000/predict'''"
      ],
      "execution_count": null,
      "outputs": []
    },
    {
      "cell_type": "code",
      "metadata": {
        "id": "Z_J-hub-nM5m",
        "colab_type": "code",
        "colab": {}
      },
      "source": [
        "k = os.popen(curl_string).read()"
      ],
      "execution_count": null,
      "outputs": []
    },
    {
      "cell_type": "code",
      "metadata": {
        "id": "xTxABr9pnM2d",
        "colab_type": "code",
        "colab": {}
      },
      "source": [
        "k=json.loads(k)"
      ],
      "execution_count": null,
      "outputs": []
    },
    {
      "cell_type": "code",
      "metadata": {
        "id": "W5LhCXtwnPxk",
        "colab_type": "code",
        "colab": {}
      },
      "source": [
        "k"
      ],
      "execution_count": null,
      "outputs": []
    }
  ]
}